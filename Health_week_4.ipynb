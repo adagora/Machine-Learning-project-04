{
  "nbformat": 4,
  "nbformat_minor": 0,
  "metadata": {
    "colab": {
      "name": "Health_week_4.ipynb",
      "provenance": [],
      "collapsed_sections": []
    },
    "kernelspec": {
      "name": "python3",
      "display_name": "Python 3"
    }
  },
  "cells": [
    {
      "cell_type": "markdown",
      "metadata": {
        "id": "5QQW2AR0tWWq",
        "colab_type": "text"
      },
      "source": [
        "X-RAY SCAN, model: Inception V3, pneumonia detection."
      ]
    },
    {
      "cell_type": "code",
      "metadata": {
        "id": "Nr7NNjbefJEY",
        "colab_type": "code",
        "colab": {}
      },
      "source": [
        "import warnings\n",
        "warnings.filterwarnings(\"ignore\")"
      ],
      "execution_count": 0,
      "outputs": []
    },
    {
      "cell_type": "code",
      "metadata": {
        "id": "sZVip5QnqcSv",
        "colab_type": "code",
        "colab": {}
      },
      "source": [
        "import numpy as np\n",
        "from IPython.display import clear_output\n",
        "\n",
        "%matplotlib inline"
      ],
      "execution_count": 0,
      "outputs": []
    },
    {
      "cell_type": "code",
      "metadata": {
        "id": "kNiDxMflsGnd",
        "colab_type": "code",
        "colab": {}
      },
      "source": [
        "!pip install tensorflow-gpu\n",
        "!pip install h5py\n",
        "\n",
        "clear_output()"
      ],
      "execution_count": 0,
      "outputs": []
    },
    {
      "cell_type": "markdown",
      "metadata": {
        "id": "Bo_8CiAos-py",
        "colab_type": "text"
      },
      "source": [
        "Downloading Dataset"
      ]
    },
    {
      "cell_type": "code",
      "metadata": {
        "id": "rZfmTrEgsQYo",
        "colab_type": "code",
        "colab": {}
      },
      "source": [
        "!wget https://data.mendeley.com/datasets/rscbjbr9sj/2/files/41d542e7-7f91-47f6-9ff2-dd8e5a5a7861/ChestXRay2017.zip\n",
        "clear_output()"
      ],
      "execution_count": 0,
      "outputs": []
    },
    {
      "cell_type": "code",
      "metadata": {
        "id": "r9YwT2AXt6uU",
        "colab_type": "code",
        "outputId": "fe92727c-a564-4b86-9351-f9f97380d6cf",
        "colab": {
          "base_uri": "https://localhost:8080/",
          "height": 34
        }
      },
      "source": [
        "!ls"
      ],
      "execution_count": 0,
      "outputs": [
        {
          "output_type": "stream",
          "text": [
            "chest_xray  ChestXRay2017.zip  ChestXRay2017.zip.1  __MACOSX  sample_data\n"
          ],
          "name": "stdout"
        }
      ]
    },
    {
      "cell_type": "code",
      "metadata": {
        "id": "BlhQ_TNUuP16",
        "colab_type": "code",
        "colab": {}
      },
      "source": [
        "from zipfile import ZipFile\n",
        "\n",
        "with ZipFile(\"./ChestXRay2017.zip\", \"r\") as f:\n",
        "  f.extractall(path = \"./\")"
      ],
      "execution_count": 0,
      "outputs": []
    },
    {
      "cell_type": "code",
      "metadata": {
        "id": "-7Kt_Eu_u4-9",
        "colab_type": "code",
        "outputId": "708b77c6-f76a-4228-a253-02e5f26fbe0a",
        "colab": {
          "base_uri": "https://localhost:8080/",
          "height": 34
        }
      },
      "source": [
        "!ls"
      ],
      "execution_count": 0,
      "outputs": [
        {
          "output_type": "stream",
          "text": [
            "chest_xray  ChestXRay2017.zip  ChestXRay2017.zip.1  __MACOSX  sample_data\n"
          ],
          "name": "stdout"
        }
      ]
    },
    {
      "cell_type": "code",
      "metadata": {
        "id": "RI4AxOx_vBaH",
        "colab_type": "code",
        "outputId": "6e04fa69-c8e6-4ac2-a765-b2f71d80505f",
        "colab": {
          "base_uri": "https://localhost:8080/",
          "height": 34
        }
      },
      "source": [
        "!ls chest_xray"
      ],
      "execution_count": 0,
      "outputs": [
        {
          "output_type": "stream",
          "text": [
            "test  train\n"
          ],
          "name": "stdout"
        }
      ]
    },
    {
      "cell_type": "code",
      "metadata": {
        "id": "kEuAsOg0vG69",
        "colab_type": "code",
        "outputId": "95ccbd0c-79a7-45f8-d7b8-281eb0758158",
        "colab": {
          "base_uri": "https://localhost:8080/",
          "height": 34
        }
      },
      "source": [
        "!ls chest_xray/train/"
      ],
      "execution_count": 0,
      "outputs": [
        {
          "output_type": "stream",
          "text": [
            "NORMAL\tPNEUMONIA\n"
          ],
          "name": "stdout"
        }
      ]
    },
    {
      "cell_type": "code",
      "metadata": {
        "id": "3EwOEw5ovL8X",
        "colab_type": "code",
        "outputId": "6aba32b7-ed1c-4de6-b439-7ec48c0d945b",
        "colab": {
          "base_uri": "https://localhost:8080/",
          "height": 34
        }
      },
      "source": [
        "!ls chest_xray/test"
      ],
      "execution_count": 0,
      "outputs": [
        {
          "output_type": "stream",
          "text": [
            "NORMAL\tPNEUMONIA\n"
          ],
          "name": "stdout"
        }
      ]
    },
    {
      "cell_type": "markdown",
      "metadata": {
        "id": "8GvqHW-9wgSk",
        "colab_type": "text"
      },
      "source": [
        "Creating ImageGenerator instances for training, validating and testing."
      ]
    },
    {
      "cell_type": "code",
      "metadata": {
        "id": "geWaJt0VvTpk",
        "colab_type": "code",
        "colab": {}
      },
      "source": [
        "from pathlib import Path\n",
        "\n",
        "train_files = \"./chest_xray/train/\"\n",
        "test_files = \"./chest_xray/test/\"\n",
        "\n",
        "positive_class_folder_name = \"PNEUMONIA\"\n",
        "negative_class_folder_name = \"NORMAL\""
      ],
      "execution_count": 0,
      "outputs": []
    },
    {
      "cell_type": "markdown",
      "metadata": {
        "id": "aUqjArKJ1WRO",
        "colab_type": "text"
      },
      "source": [
        "WORKFLOW"
      ]
    },
    {
      "cell_type": "code",
      "metadata": {
        "id": "tBgvv5N71Rv1",
        "colab_type": "code",
        "outputId": "98ba8b0c-6c71-4144-a852-e6358caae952",
        "colab": {
          "base_uri": "https://localhost:8080/",
          "height": 50
        }
      },
      "source": [
        "## training files which:\n",
        "# show pneumonia\n",
        "P = Path(train_files + positive_class_folder_name + \"/\")\n",
        "temp = list(P.glob(\"*.jpeg\"))\n",
        "print(\"Training-Pneumonia - %i \" % len(temp))\n",
        "\n",
        "#normal\n",
        "P = P = Path(train_files + negative_class_folder_name + \"/\")\n",
        "temp = list(P.glob(\"*.jpeg\"))\n",
        "print(\"Training-Normal - %i \" % len(temp))\n"
      ],
      "execution_count": 0,
      "outputs": [
        {
          "output_type": "stream",
          "text": [
            "Training-Pneumonia - 3883 \n",
            "Training-Normal - 1349 \n"
          ],
          "name": "stdout"
        }
      ]
    },
    {
      "cell_type": "code",
      "metadata": {
        "id": "wHJNNiih3WNM",
        "colab_type": "code",
        "outputId": "92467f91-5605-4ace-8873-e00413f9f987",
        "colab": {
          "base_uri": "https://localhost:8080/",
          "height": 50
        }
      },
      "source": [
        "## testing files which:\n",
        "# show pneumonia\n",
        "P = Path(test_files + positive_class_folder_name + \"/\")\n",
        "temp = list(P.glob(\"*.jpeg\"))\n",
        "print(\"Testing-Pneumonia - %i \" % len(temp))\n",
        "\n",
        "# normal\n",
        "P = P = Path(test_files + negative_class_folder_name + \"/\")\n",
        "temp = list(P.glob(\"*.jpeg\"))\n",
        "print(\"Testing-Normal - %i \" % len(temp))"
      ],
      "execution_count": 0,
      "outputs": [
        {
          "output_type": "stream",
          "text": [
            "Testing-Pneumonia - 390 \n",
            "Testing-Normal - 234 \n"
          ],
          "name": "stdout"
        }
      ]
    },
    {
      "cell_type": "code",
      "metadata": {
        "id": "sMAC6XyE5vvW",
        "colab_type": "code",
        "colab": {}
      },
      "source": [
        "## creating ImageDataGenerators for training\n",
        "\n",
        "from tensorflow.keras.preprocessing.image import ImageDataGenerator\n",
        "\n",
        "train_generator = ImageDataGenerator(featurewise_center = True,\n",
        "                                     shear_range = 0.2,\n",
        "                                     rescale = 1.0/255,\n",
        "                                     horizontal_flip = True,\n",
        "                                     validation_split = 0.2)\n",
        "test_generator = ImageDataGenerator(rescale = 1.0/255)"
      ],
      "execution_count": 0,
      "outputs": []
    },
    {
      "cell_type": "code",
      "metadata": {
        "id": "01lEnP_T60Lg",
        "colab_type": "code",
        "outputId": "1205ac9b-66fd-451f-ba6e-90742795bbed",
        "colab": {
          "base_uri": "https://localhost:8080/",
          "height": 67
        }
      },
      "source": [
        "# create batch iterators for the train/validation/test data\n",
        "train_iterator = train_generator.flow_from_directory(train_files, \n",
        "                                                     target_size = (150, 150),\n",
        "                                                     classes = [positive_class_folder_name, negative_class_folder_name],\n",
        "                                                     batch_size = 256, \n",
        "                                                     shuffle = True, \n",
        "                                                     class_mode = \"binary\",\n",
        "                                                     subset = \"training\")\n",
        "\n",
        "validation_iterator = train_generator.flow_from_directory(train_files, \n",
        "                                                          target_size = (150, 150),\n",
        "                                                          classes = [positive_class_folder_name, negative_class_folder_name],\n",
        "                                                          batch_size = 128, \n",
        "                                                          shuffle = False, \n",
        "                                                          class_mode = \"binary\",\n",
        "                                                          subset = \"validation\")\n",
        "\n",
        "test_iterator = test_generator.flow_from_directory(test_files, \n",
        "                                                   target_size = (150, 150), \n",
        "                                                   classes = [positive_class_folder_name, negative_class_folder_name],\n",
        "                                                   batch_size = 64, \n",
        "                                                   shuffle = False,\n",
        "                                                   class_mode = \"binary\")"
      ],
      "execution_count": 0,
      "outputs": [
        {
          "output_type": "stream",
          "text": [
            "Found 4187 images belonging to 2 classes.\n",
            "Found 1045 images belonging to 2 classes.\n",
            "Found 624 images belonging to 2 classes.\n"
          ],
          "name": "stdout"
        }
      ]
    },
    {
      "cell_type": "code",
      "metadata": {
        "id": "LdNUUUdC85JF",
        "colab_type": "code",
        "outputId": "dc8a67cf-4bc1-4730-f6f7-229f50e2fa37",
        "colab": {
          "base_uri": "https://localhost:8080/",
          "height": 34
        }
      },
      "source": [
        "# count for class instances in training data\n",
        "\n",
        "class1 = sum(train_iterator.classes)\n",
        "class0 = len(train_iterator.classes) - class1 \n",
        "\n",
        "print(\"Label 0 - %i, Label 1 - %i\" % (class0, class1))"
      ],
      "execution_count": 0,
      "outputs": [
        {
          "output_type": "stream",
          "text": [
            "Label 0 - 3107, Label 1 - 1080\n"
          ],
          "name": "stdout"
        }
      ]
    },
    {
      "cell_type": "code",
      "metadata": {
        "id": "slRl0JGQ9hmh",
        "colab_type": "code",
        "outputId": "80efab8f-d632-4749-e7ba-257e9920ef7f",
        "colab": {
          "base_uri": "https://localhost:8080/",
          "height": 34
        }
      },
      "source": [
        "# count for class instances in validation data\n",
        "class1 = sum(validation_iterator.classes)\n",
        "class0 = len(validation_iterator.classes) - class1\n",
        "\n",
        "print(\"Label 0 - %i, Label 1 - %i\" % (class0, class1))"
      ],
      "execution_count": 0,
      "outputs": [
        {
          "output_type": "stream",
          "text": [
            "Label 0 - 776, Label 1 - 269\n"
          ],
          "name": "stdout"
        }
      ]
    },
    {
      "cell_type": "code",
      "metadata": {
        "id": "5UKZLmkP9rj9",
        "colab_type": "code",
        "outputId": "57b24502-43ac-42de-95bd-7feccd35f187",
        "colab": {
          "base_uri": "https://localhost:8080/",
          "height": 34
        }
      },
      "source": [
        "# count for class instances in testing data\n",
        "\n",
        "class1 = sum(test_iterator.classes)\n",
        "class0 = len(test_iterator.classes) - class1\n",
        "\n",
        "print(\"Label 0 - %i, Label 1 - %i\" % (class0, class1))"
      ],
      "execution_count": 0,
      "outputs": [
        {
          "output_type": "stream",
          "text": [
            "Label 0 - 390, Label 1 - 234\n"
          ],
          "name": "stdout"
        }
      ]
    },
    {
      "cell_type": "markdown",
      "metadata": {
        "id": "jDv7jDu595pT",
        "colab_type": "text"
      },
      "source": [
        "Conclusion: \n",
        "label 1 = negative_class_folder_name\n",
        "label 2 = positive_class_folder_name"
      ]
    },
    {
      "cell_type": "code",
      "metadata": {
        "id": "gqikajXK932V",
        "colab_type": "code",
        "outputId": "9b016f5b-9aae-4df0-daf0-547ee62aed0b",
        "colab": {
          "base_uri": "https://localhost:8080/",
          "height": 34
        }
      },
      "source": [
        "# defining category label weights as per imbalance amount of the training dataset\n",
        "\n",
        "from sklearn.utils.class_weight import compute_class_weight\n",
        "\n",
        "y = train_iterator.classes\n",
        "labels = np.unique(y)\n",
        "\n",
        "train_class_weights = compute_class_weight(\"balanced\", labels, y)\n",
        "train_class_weights\n"
      ],
      "execution_count": 0,
      "outputs": [
        {
          "output_type": "execute_result",
          "data": {
            "text/plain": [
              "array([0.67380109, 1.93842593])"
            ]
          },
          "metadata": {
            "tags": []
          },
          "execution_count": 24
        }
      ]
    },
    {
      "cell_type": "markdown",
      "metadata": {
        "id": "dXCXLvrMANSL",
        "colab_type": "text"
      },
      "source": [
        "Transfer Learning using the InceptionV3 pretrained CNN"
      ]
    },
    {
      "cell_type": "code",
      "metadata": {
        "id": "1f-EgVbi_q-t",
        "colab_type": "code",
        "outputId": "4cfd448e-2304-4c78-e13e-4d6151b0ba62",
        "colab": {
          "base_uri": "https://localhost:8080/",
          "height": 252
        }
      },
      "source": [
        "# are the Colab GPUs available to tensorflow?\n",
        "\n",
        "from tensorflow.python.client import device_lib\n",
        "print(device_lib.list_local_devices())"
      ],
      "execution_count": 0,
      "outputs": [
        {
          "output_type": "stream",
          "text": [
            "[name: \"/device:CPU:0\"\n",
            "device_type: \"CPU\"\n",
            "memory_limit: 268435456\n",
            "locality {\n",
            "}\n",
            "incarnation: 10855210940718736740\n",
            ", name: \"/device:XLA_CPU:0\"\n",
            "device_type: \"XLA_CPU\"\n",
            "memory_limit: 17179869184\n",
            "locality {\n",
            "}\n",
            "incarnation: 16616428586368492498\n",
            "physical_device_desc: \"device: XLA_CPU device\"\n",
            "]\n"
          ],
          "name": "stdout"
        }
      ]
    },
    {
      "cell_type": "code",
      "metadata": {
        "id": "YkzcyTaBAWdA",
        "colab_type": "code",
        "colab": {}
      },
      "source": [
        "from tensorflow.keras.backend import clear_session\n",
        "from tensorflow.keras.layers import Dropout, GlobalAveragePooling2D, BatchNormalization, Dense\n",
        "from tensorflow.keras.models import Sequential, load_model, save_model\n",
        "from tensorflow.keras.applications.inception_v3 import InceptionV3\n",
        "from tensorflow.keras.optimizers import RMSprop"
      ],
      "execution_count": 0,
      "outputs": []
    },
    {
      "cell_type": "markdown",
      "metadata": {
        "id": "wMTWa8E7BItK",
        "colab_type": "text"
      },
      "source": [
        "Modify the Inception V3 CNN as per as the output requirements"
      ]
    },
    {
      "cell_type": "code",
      "metadata": {
        "id": "Sda9AH01A6xp",
        "colab_type": "code",
        "outputId": "08ccc17b-06d3-4cd5-c641-44860c2f4d98",
        "colab": {
          "base_uri": "https://localhost:8080/",
          "height": 591
        }
      },
      "source": [
        "clear_session()\n",
        "\n",
        "base_model = InceptionV3(weights = \"imagenet\", include_top = False, input_shape = (150, 150, 3))\n",
        "clear_output()\n",
        "\n",
        "base_model.trainable = False\n",
        "myModel = Sequential([base_model,\n",
        "                      GlobalAveragePooling2D(),\n",
        "                      Dense(1024, activation = \"relu\"),\n",
        "                      Dropout(0.3),\n",
        "                      Dense(512, activation = \"relu\"),\n",
        "                      Dropout(0.3),\n",
        "                      Dense(256, activation = \"relu\"),\n",
        "                      Dropout(0.3),\n",
        "                      Dense(128, activation = \"relu\"),\n",
        "                      Dropout(0.3),\n",
        "                      Dense(1, activation = \"sigmoid\")])\n",
        "\n",
        "myModel.compile(RMSprop(), loss = \"binary_crossentropy\", metrics = [\"accuracy\"])\n",
        "myModel.summary()"
      ],
      "execution_count": 0,
      "outputs": [
        {
          "output_type": "stream",
          "text": [
            "WARNING:tensorflow:From /usr/local/lib/python3.6/dist-packages/tensorflow/python/ops/nn_impl.py:180: add_dispatch_support.<locals>.wrapper (from tensorflow.python.ops.array_ops) is deprecated and will be removed in a future version.\n",
            "Instructions for updating:\n",
            "Use tf.where in 2.0, which has the same broadcast rule as np.where\n",
            "Model: \"sequential\"\n",
            "_________________________________________________________________\n",
            "Layer (type)                 Output Shape              Param #   \n",
            "=================================================================\n",
            "inception_v3 (Model)         (None, 3, 3, 2048)        21802784  \n",
            "_________________________________________________________________\n",
            "global_average_pooling2d (Gl (None, 2048)              0         \n",
            "_________________________________________________________________\n",
            "dense (Dense)                (None, 1024)              2098176   \n",
            "_________________________________________________________________\n",
            "dropout (Dropout)            (None, 1024)              0         \n",
            "_________________________________________________________________\n",
            "dense_1 (Dense)              (None, 512)               524800    \n",
            "_________________________________________________________________\n",
            "dropout_1 (Dropout)          (None, 512)               0         \n",
            "_________________________________________________________________\n",
            "dense_2 (Dense)              (None, 256)               131328    \n",
            "_________________________________________________________________\n",
            "dropout_2 (Dropout)          (None, 256)               0         \n",
            "_________________________________________________________________\n",
            "dense_3 (Dense)              (None, 128)               32896     \n",
            "_________________________________________________________________\n",
            "dropout_3 (Dropout)          (None, 128)               0         \n",
            "_________________________________________________________________\n",
            "dense_4 (Dense)              (None, 1)                 129       \n",
            "=================================================================\n",
            "Total params: 24,590,113\n",
            "Trainable params: 2,787,329\n",
            "Non-trainable params: 21,802,784\n",
            "_________________________________________________________________\n"
          ],
          "name": "stdout"
        }
      ]
    },
    {
      "cell_type": "markdown",
      "metadata": {
        "id": "bf1QZYQICsT8",
        "colab_type": "text"
      },
      "source": [
        "Training model"
      ]
    },
    {
      "cell_type": "code",
      "metadata": {
        "id": "0R_hekcvCTKD",
        "colab_type": "code",
        "outputId": "1887f700-4117-4498-e0dd-6bdef112daf1",
        "colab": {
          "base_uri": "https://localhost:8080/",
          "height": 353
        }
      },
      "source": [
        "history = myModel.fit_generator(train_iterator, \n",
        "                                steps_per_epoch = len(train_iterator),\n",
        "                                epochs = 10,\n",
        "                                verbose = 1,\n",
        "                                workers = 20,\n",
        "                                validation_data = validation_iterator, \n",
        "                                validation_steps = len(validation_iterator),\n",
        "                                class_weight = train_class_weights)"
      ],
      "execution_count": 0,
      "outputs": [
        {
          "output_type": "stream",
          "text": [
            "Epoch 1/10\n",
            "17/17 [==============================] - 378s 22s/step - loss: 1.1156 - acc: 0.7535 - val_loss: 0.8396 - val_acc: 0.7426\n",
            "Epoch 2/10\n",
            "17/17 [==============================] - 354s 21s/step - loss: 0.5255 - acc: 0.7621 - val_loss: 0.5671 - val_acc: 0.7502\n",
            "Epoch 3/10\n",
            "17/17 [==============================] - 356s 21s/step - loss: 0.4426 - acc: 0.8106 - val_loss: 0.6755 - val_acc: 0.6335\n",
            "Epoch 4/10\n",
            "17/17 [==============================] - 357s 21s/step - loss: 0.3371 - acc: 0.8617 - val_loss: 0.8990 - val_acc: 0.6364\n",
            "Epoch 5/10\n",
            "17/17 [==============================] - 352s 21s/step - loss: 0.3989 - acc: 0.8651 - val_loss: 0.7481 - val_acc: 0.7435\n",
            "Epoch 6/10\n",
            "17/17 [==============================] - 356s 21s/step - loss: 0.2850 - acc: 0.8837 - val_loss: 0.3882 - val_acc: 0.8584\n",
            "Epoch 7/10\n",
            "17/17 [==============================] - 354s 21s/step - loss: 0.2996 - acc: 0.8794 - val_loss: 0.3142 - val_acc: 0.8737\n",
            "Epoch 8/10\n",
            "17/17 [==============================] - 355s 21s/step - loss: 0.3403 - acc: 0.8741 - val_loss: 0.3553 - val_acc: 0.8258\n",
            "Epoch 9/10\n",
            "17/17 [==============================] - 358s 21s/step - loss: 0.2689 - acc: 0.8940 - val_loss: 0.4428 - val_acc: 0.8718\n",
            "Epoch 10/10\n",
            "17/17 [==============================] - 356s 21s/step - loss: 0.2562 - acc: 0.9011 - val_loss: 0.5147 - val_acc: 0.7694\n"
          ],
          "name": "stdout"
        }
      ]
    },
    {
      "cell_type": "code",
      "metadata": {
        "id": "nPLyJkOMRqOf",
        "colab_type": "code",
        "colab": {}
      },
      "source": [
        "# save the model\n",
        "\n",
        "save_model(myModel, \"./myModel_after_10_epochs\", overwrite = True, include_optimizer = True)"
      ],
      "execution_count": 0,
      "outputs": []
    },
    {
      "cell_type": "code",
      "metadata": {
        "id": "NbhoYcfsUni_",
        "colab_type": "code",
        "colab": {}
      },
      "source": [
        ""
      ],
      "execution_count": 0,
      "outputs": []
    },
    {
      "cell_type": "markdown",
      "metadata": {
        "id": "voAI5x1dSBen",
        "colab_type": "text"
      },
      "source": [
        "Load myModel from local directory if required"
      ]
    },
    {
      "cell_type": "code",
      "metadata": {
        "id": "Bihp6MbzR_Hy",
        "colab_type": "code",
        "outputId": "71446b92-a64a-403e-f659-0016e416820e",
        "colab": {
          "base_uri": "https://localhost:8080/",
          "height": 188
        }
      },
      "source": [
        "myModel = load_model(\"./myModel_after_10_epochs\")"
      ],
      "execution_count": 0,
      "outputs": [
        {
          "output_type": "stream",
          "text": [
            "WARNING:tensorflow:From /usr/local/lib/python3.6/dist-packages/tensorflow/python/ops/init_ops.py:97: calling GlorotUniform.__init__ (from tensorflow.python.ops.init_ops) with dtype is deprecated and will be removed in a future version.\n",
            "Instructions for updating:\n",
            "Call initializer instance with the dtype argument instead of passing it to the constructor\n",
            "WARNING:tensorflow:From /usr/local/lib/python3.6/dist-packages/tensorflow/python/ops/init_ops.py:97: calling Zeros.__init__ (from tensorflow.python.ops.init_ops) with dtype is deprecated and will be removed in a future version.\n",
            "Instructions for updating:\n",
            "Call initializer instance with the dtype argument instead of passing it to the constructor\n",
            "WARNING:tensorflow:From /usr/local/lib/python3.6/dist-packages/tensorflow/python/ops/init_ops.py:97: calling Ones.__init__ (from tensorflow.python.ops.init_ops) with dtype is deprecated and will be removed in a future version.\n",
            "Instructions for updating:\n",
            "Call initializer instance with the dtype argument instead of passing it to the constructor\n"
          ],
          "name": "stdout"
        }
      ]
    },
    {
      "cell_type": "code",
      "metadata": {
        "id": "p9AYPCu-SK4U",
        "colab_type": "code",
        "outputId": "a9e966dd-7e55-4c72-b35f-6c401dc04b0e",
        "colab": {
          "base_uri": "https://localhost:8080/",
          "height": 168
        }
      },
      "source": [
        "from sklearn.metrics import classification_report\n",
        "\n",
        "\n",
        "yhat = myModel.predict_generator(test_iterator,\n",
        "                                 steps = len(test_iterator),\n",
        "                                 verbose = 0)  \n",
        "mask = yhat > 0.5\n",
        "yhat[mask] = 1\n",
        "yhat[~mask] = 0\n",
        "\n",
        "y = test_iterator.classes\n",
        "\n",
        "target_names = [positive_class_folder_name, negative_class_folder_name]\n",
        "print(classification_report(y, yhat, target_names = target_names))"
      ],
      "execution_count": 0,
      "outputs": [
        {
          "output_type": "stream",
          "text": [
            "              precision    recall  f1-score   support\n",
            "\n",
            "   PNEUMONIA       0.76      0.75      0.75       390\n",
            "      NORMAL       0.59      0.61      0.60       234\n",
            "\n",
            "    accuracy                           0.70       624\n",
            "   macro avg       0.68      0.68      0.68       624\n",
            "weighted avg       0.70      0.70      0.70       624\n",
            "\n"
          ],
          "name": "stdout"
        }
      ]
    },
    {
      "cell_type": "code",
      "metadata": {
        "id": "PpYR75dISfe4",
        "colab_type": "code",
        "outputId": "443ed9b9-8a64-4995-bcb3-880a385df12d",
        "colab": {
          "base_uri": "https://localhost:8080/",
          "height": 729
        }
      },
      "source": [
        "from random import randint\n",
        "import matplotlib.pyplot as plt\n",
        "import cv2\n",
        "\n",
        "%matplotlib inline\n",
        "\n",
        "label_dict = {0:\"PNEUMONIA\", 1:\"NORMAL\"}\n",
        "\n",
        "test_file_names = test_iterator.filenames\n",
        "n = len(test_file_names)\n",
        "\n",
        "plt.rcParams[\"figure.figsize\"] = 12, 10\n",
        "\n",
        "for i in range(5):\n",
        "    index = randint(0, n - 1)\n",
        "    file_name = test_files + test_file_names[index]\n",
        "    \n",
        "    image = cv2.imread(file_name, cv2.IMREAD_COLOR)\n",
        "    image = cv2.cvtColor(image, cv2.COLOR_BGR2RGB)\n",
        "    \n",
        "    ground_truth_label = label_dict[int(y[index])]\n",
        "    predicted_label = label_dict[int(yhat[index])]\n",
        "    \n",
        "    plt.subplot(5, 1, i + 1)\n",
        "    plt.axis(\"off\")\n",
        "    plt.imshow(image)\n",
        "    \n",
        "    title = \"Ground Truth = \" + ground_truth_label + \", Predicted Label = \" + predicted_label\n",
        "    plt.title(title)\n",
        "\n",
        "plt.tight_layout()\n",
        "plt.show()"
      ],
      "execution_count": 0,
      "outputs": [
        {
          "output_type": "display_data",
          "data": {
            "image/png": "[encoded data removed]",
            "text/plain": [
              "<Figure size 864x720 with 5 Axes>"
            ]
          },
          "metadata": {
            "tags": []
          }
        }
      ]
    }
  ]
}